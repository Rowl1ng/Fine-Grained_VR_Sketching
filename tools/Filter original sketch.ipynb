{
 "cells": [
  {
   "cell_type": "code",
   "execution_count": 1,
   "id": "7e5d6ae1",
   "metadata": {},
   "outputs": [],
   "source": [
    "from glob import glob\n",
    "import os\n",
    "import numpy as np\n",
    "import open3d as o3d\n",
    "import meshplot as mp"
   ]
  },
  {
   "cell_type": "code",
   "execution_count": 148,
   "id": "5c38629b",
   "metadata": {},
   "outputs": [],
   "source": [
    "noise_list = ['03001627_1bb81d54471d7c1df51f77a6d7299806_model_27_2020-09-24-14-53-43_sketch',\n",
    "             '03001627_2a0f4fe08cec3d25680876614ed35a7f_model_20_2020-09-16-12-58-52_sketch']"
   ]
  },
  {
   "cell_type": "markdown",
   "id": "388f3b38",
   "metadata": {},
   "source": [
    "# 1. Load raw sketches"
   ]
  },
  {
   "cell_type": "markdown",
   "id": "2fa66621",
   "metadata": {},
   "source": [
    "Load original sketches from `raw_dir`, please replace it with your save directory of the original sketch obj files."
   ]
  },
  {
   "cell_type": "code",
   "execution_count": 2,
   "id": "c6fc4d52",
   "metadata": {},
   "outputs": [],
   "source": [
    "raw_dir = '/vol/vssp/SF_datasets/multiview/3VS/datasets/FineGrained_3DSketch/3DV_SketchyVR/sketch_obj/original_obj'\n",
    "objs = glob(os.path.join(raw_dir, '*.obj'))"
   ]
  },
  {
   "cell_type": "code",
   "execution_count": 3,
   "id": "0e60bc8f",
   "metadata": {},
   "outputs": [
    {
     "data": {
      "text/plain": [
       "1559"
      ]
     },
     "execution_count": 3,
     "metadata": {},
     "output_type": "execute_result"
    }
   ],
   "source": [
    "len(objs)"
   ]
  },
  {
   "cell_type": "markdown",
   "id": "b966dbdb",
   "metadata": {},
   "source": [
    "Load timestamp file as a N x 4 array. Each line is [x, y, z, t] where t is the related time "
   ]
  },
  {
   "cell_type": "code",
   "execution_count": 103,
   "id": "d06e0192",
   "metadata": {},
   "outputs": [],
   "source": [
    "file_name = noise_list[1]\n",
    "obj_file = os.path.join(raw_dir, file_name + '.obj')\n",
    "timestamp = obj_file.replace('_sketch.obj', '_timestamp.txt')"
   ]
  },
  {
   "cell_type": "code",
   "execution_count": 105,
   "id": "f511623f",
   "metadata": {},
   "outputs": [],
   "source": [
    "time_array = np.loadtxt(timestamp, delimiter=' ')"
   ]
  },
  {
   "cell_type": "markdown",
   "id": "14d57c4d",
   "metadata": {},
   "source": [
    "Each line is formatted as `[x, y, z, t]`"
   ]
  },
  {
   "cell_type": "code",
   "execution_count": 8,
   "id": "13b291b1",
   "metadata": {},
   "outputs": [
    {
     "data": {
      "text/plain": [
       "array([[ 2.705314e-01, -1.067828e-03,  2.715820e-01,  0.000000e+00],\n",
       "       [ 2.705989e-01, -1.491884e-03,  2.720228e-01,  2.319336e-02],\n",
       "       [ 2.706159e-01, -1.681919e-03,  2.722431e-01,  3.674316e-02],\n",
       "       ...,\n",
       "       [ 2.199945e-01,  1.301780e-01,  3.130999e-01,  5.344360e+00],\n",
       "       [ 2.206306e-01,  1.306313e-01,  3.143868e-01,  5.356201e+00],\n",
       "       [ 2.207554e-01,  1.308748e-01,  3.141899e-01,  5.365601e+00]])"
      ]
     },
     "execution_count": 8,
     "metadata": {},
     "output_type": "execute_result"
    }
   ],
   "source": [
    "time_array"
   ]
  },
  {
   "cell_type": "code",
   "execution_count": 106,
   "id": "e39a9388",
   "metadata": {},
   "outputs": [],
   "source": [
    "xyz = time_array[:, :3]"
   ]
  },
  {
   "cell_type": "code",
   "execution_count": 20,
   "id": "b0e20496",
   "metadata": {},
   "outputs": [
    {
     "data": {
      "text/plain": [
       "(2456, 3)"
      ]
     },
     "execution_count": 20,
     "metadata": {},
     "output_type": "execute_result"
    }
   ],
   "source": [
    "xyz.shape"
   ]
  },
  {
   "cell_type": "markdown",
   "id": "51f0b886",
   "metadata": {},
   "source": [
    "Visualize sketch. There is a noisy stroke in the corner."
   ]
  },
  {
   "cell_type": "code",
   "execution_count": 107,
   "id": "be408edf",
   "metadata": {},
   "outputs": [
    {
     "data": {
      "application/vnd.jupyter.widget-view+json": {
       "model_id": "cac21fc22ed441549ed4f4c8f2966d44",
       "version_major": 2,
       "version_minor": 0
      },
      "text/plain": [
       "HBox(children=(Output(), Output()))"
      ]
     },
     "metadata": {},
     "output_type": "display_data"
    }
   ],
   "source": [
    "d = mp.subplot(xyz, c=xyz[:, 1], s=[1, 2, 0], shading={\"point_size\": 0.03})"
   ]
  },
  {
   "cell_type": "markdown",
   "id": "f0e81d1e",
   "metadata": {},
   "source": [
    "## Normalization"
   ]
  },
  {
   "cell_type": "markdown",
   "id": "3b5825f5",
   "metadata": {},
   "source": [
    "Normalize original sketch to unit bounding box:"
   ]
  },
  {
   "cell_type": "code",
   "execution_count": 81,
   "id": "d9ae0a15",
   "metadata": {},
   "outputs": [],
   "source": [
    "def normalize_to_box(input):\n",
    "    \"\"\"\n",
    "    normalize point cloud to unit bounding box\n",
    "    center = (max - min)/2\n",
    "    scale = max(abs(x))\n",
    "    input: pc [N, P, dim] or [P, dim]\n",
    "    output: pc, centroid, furthest_distance\n",
    "\n",
    "    From https://github.com/yifita/pytorch_points\n",
    "    \"\"\"\n",
    "    if len(input.shape) == 2:\n",
    "        axis = 0\n",
    "        P = input.shape[0]\n",
    "        D = input.shape[1]\n",
    "    elif len(input.shape) == 3:\n",
    "        axis = 1\n",
    "        P = input.shape[1]\n",
    "        D = input.shape[2]\n",
    "    else:\n",
    "        raise ValueError()\n",
    "    \n",
    "    if isinstance(input, np.ndarray):\n",
    "        maxP = np.amax(input, axis=axis, keepdims=True)\n",
    "        minP = np.amin(input, axis=axis, keepdims=True)\n",
    "        centroid = (maxP+minP)/2\n",
    "        input = input - centroid\n",
    "        furthest_distance = np.amax(np.abs(input), axis=(axis, -1), keepdims=True)\n",
    "        input = input / furthest_distance\n",
    "    elif isinstance(input, torch.Tensor):\n",
    "        maxP = torch.max(input, dim=axis, keepdim=True)[0]\n",
    "        minP = torch.min(input, dim=axis, keepdim=True)[0]\n",
    "        centroid = (maxP+minP)/2\n",
    "        input = input - centroid\n",
    "        in_shape = list(input.shape[:axis])+[P*D]\n",
    "        furthest_distance = torch.max(torch.abs(input).reshape(in_shape), dim=axis, keepdim=True)[0]\n",
    "        furthest_distance = furthest_distance.unsqueeze(-1)\n",
    "        input = input / furthest_distance\n",
    "    else:\n",
    "        raise ValueError()\n",
    "\n",
    "    return input, centroid, furthest_distance"
   ]
  },
  {
   "cell_type": "code",
   "execution_count": 108,
   "id": "4be8c52c",
   "metadata": {},
   "outputs": [],
   "source": [
    "norm, centroid, furthest_distance = normalize_to_box(xyz)"
   ]
  },
  {
   "cell_type": "code",
   "execution_count": 83,
   "id": "acf1446d",
   "metadata": {},
   "outputs": [
    {
     "data": {
      "text/plain": [
       "array([[-0.93684761, -0.03273783, -0.3521659 ],\n",
       "       [-0.93656578, -0.0315883 , -0.35299554],\n",
       "       [-0.93687171, -0.0314144 , -0.35282918],\n",
       "       ...,\n",
       "       [-0.91375618, -0.15544851,  0.33422232],\n",
       "       [-0.91070476, -0.16100946,  0.33635392],\n",
       "       [-0.90717295, -0.16893056,  0.34096978]])"
      ]
     },
     "execution_count": 83,
     "metadata": {},
     "output_type": "execute_result"
    }
   ],
   "source": [
    "norm"
   ]
  },
  {
   "cell_type": "code",
   "execution_count": 92,
   "id": "67ea0252",
   "metadata": {},
   "outputs": [
    {
     "data": {
      "text/plain": [
       "(5367, 3)"
      ]
     },
     "execution_count": 92,
     "metadata": {},
     "output_type": "execute_result"
    }
   ],
   "source": [
    "norm.shape"
   ]
  },
  {
   "cell_type": "markdown",
   "id": "8104489a",
   "metadata": {},
   "source": [
    "# Filtering"
   ]
  },
  {
   "cell_type": "markdown",
   "id": "99bacae2",
   "metadata": {},
   "source": [
    "`radius_outlier_removal` removes points that have few neighbors in a given sphere around them. Two parameters can be used to tune the filter to your data: \n",
    "\n",
    "- `nb_points`, which lets you pick the minimum amount of points that the sphere should contain.\n",
    "- `radius`, which defines the radius of the sphere that will be used for counting the neighbors.\n",
    "\n",
    "For more details please refer to data:http://www.open3d.org/docs/0.12.0/tutorial/geometry/pointcloud_outlier_removal.html"
   ]
  },
  {
   "cell_type": "markdown",
   "id": "714812f0",
   "metadata": {},
   "source": [
    "Load sketch as point cloud and remove outlier:"
   ]
  },
  {
   "cell_type": "code",
   "execution_count": 109,
   "id": "7c73d997",
   "metadata": {},
   "outputs": [],
   "source": [
    "pcd = o3d.geometry.PointCloud()\n",
    "pcd.points = o3d.utility.Vector3dVector(xyz)\n",
    "nb_points = int(norm.shape[0]*0.1)\n",
    "cl, ind = pcd.remove_radius_outlier(nb_points=nb_points, radius=0.2) # ind is the index list of all remained points\n",
    "new_pc = xyz[ind] # points list after filtering"
   ]
  },
  {
   "cell_type": "code",
   "execution_count": 110,
   "id": "7d52c34c",
   "metadata": {},
   "outputs": [
    {
     "data": {
      "text/plain": [
       "array([[0.02788896, 0.2493026 , 0.1143481 ],\n",
       "       [0.02769374, 0.2489777 , 0.1147905 ],\n",
       "       [0.02752536, 0.2487068 , 0.114978  ],\n",
       "       ...,\n",
       "       [0.2114903 , 0.1242627 , 0.2672291 ],\n",
       "       [0.2120175 , 0.1238131 , 0.2675781 ],\n",
       "       [0.2124599 , 0.1232184 , 0.267924  ]])"
      ]
     },
     "execution_count": 110,
     "metadata": {},
     "output_type": "execute_result"
    }
   ],
   "source": [
    "new_pc"
   ]
  },
  {
   "cell_type": "code",
   "execution_count": 111,
   "id": "c6514e42",
   "metadata": {},
   "outputs": [
    {
     "data": {
      "text/plain": [
       "(4002, 3)"
      ]
     },
     "execution_count": 111,
     "metadata": {},
     "output_type": "execute_result"
    }
   ],
   "source": [
    "new_pc.shape"
   ]
  },
  {
   "cell_type": "markdown",
   "id": "db915ddb",
   "metadata": {},
   "source": [
    "Visualize filtered sketch, the noisy stroke is removed after filtering."
   ]
  },
  {
   "cell_type": "code",
   "execution_count": 112,
   "id": "2b517bb2",
   "metadata": {},
   "outputs": [
    {
     "data": {
      "application/vnd.jupyter.widget-view+json": {
       "model_id": "3dce01c70c0948858de0fe68924dfd6d",
       "version_major": 2,
       "version_minor": 0
      },
      "text/plain": [
       "HBox(children=(Output(), Output()))"
      ]
     },
     "metadata": {},
     "output_type": "display_data"
    }
   ],
   "source": [
    "d = mp.subplot(new_pc, c=new_pc[:, 1], s=[1, 2, 0], shading={\"point_size\": 0.03})"
   ]
  },
  {
   "cell_type": "markdown",
   "id": "6826c318",
   "metadata": {},
   "source": [
    "Split strokes according to timestamps"
   ]
  },
  {
   "cell_type": "code",
   "execution_count": 114,
   "id": "ba9d3fec",
   "metadata": {},
   "outputs": [],
   "source": [
    "t = time_array[:, 3]"
   ]
  },
  {
   "cell_type": "code",
   "execution_count": 130,
   "id": "11d8bc8f",
   "metadata": {},
   "outputs": [
    {
     "data": {
      "text/plain": [
       "(4044,)"
      ]
     },
     "execution_count": 130,
     "metadata": {},
     "output_type": "execute_result"
    }
   ],
   "source": [
    "t.shape"
   ]
  },
  {
   "cell_type": "code",
   "execution_count": 126,
   "id": "40359a8d",
   "metadata": {},
   "outputs": [],
   "source": [
    "begin = np.where(t==0)[0] # the start index of each stroke"
   ]
  },
  {
   "cell_type": "code",
   "execution_count": 127,
   "id": "b26725c4",
   "metadata": {},
   "outputs": [
    {
     "data": {
      "text/plain": [
       "array([   0,   42,  265,  459,  704,  916, 1101, 1216, 1328, 1509, 1666,\n",
       "       1790, 1841, 1891, 1957, 2033, 2086, 2238, 2320, 2392, 2453, 2538,\n",
       "       2622, 2736, 2838, 2943, 3029, 3140, 3290, 3433, 3561, 3690, 3828,\n",
       "       3925])"
      ]
     },
     "execution_count": 127,
     "metadata": {},
     "output_type": "execute_result"
    }
   ],
   "source": [
    "begin"
   ]
  },
  {
   "cell_type": "code",
   "execution_count": 143,
   "id": "35cd75a3",
   "metadata": {},
   "outputs": [],
   "source": [
    "filtered_strokes = []\n",
    "start = 0\n",
    "for i, start in enumerate(begin):\n",
    "    end = begin[i+1] if i < len(begin) - 1 else t.shape[0] - 1\n",
    "    middle = int((start + end)/2)\n",
    "    if middle in ind:\n",
    "#         strokes.append([start, end])\n",
    "        filtered_strokes.append(time_array[start:end])"
   ]
  },
  {
   "cell_type": "markdown",
   "id": "154da43a",
   "metadata": {},
   "source": [
    "points list of the last stroke of the filtered ssketch:"
   ]
  },
  {
   "cell_type": "code",
   "execution_count": 140,
   "id": "bc76f4a8",
   "metadata": {},
   "outputs": [
    {
     "data": {
      "text/plain": [
       "array([[0.04634205, 0.1089906 , 0.2697861 ],\n",
       "       [0.04699868, 0.1089036 , 0.2701499 ],\n",
       "       [0.04742217, 0.108754  , 0.2701908 ],\n",
       "       [0.04797826, 0.1084742 , 0.2701976 ],\n",
       "       [0.04864131, 0.1080806 , 0.270251  ],\n",
       "       [0.04889285, 0.1078953 , 0.2702953 ],\n",
       "       [0.04929682, 0.1077179 , 0.2703888 ],\n",
       "       [0.05008909, 0.107486  , 0.2705843 ],\n",
       "       [0.05136194, 0.107269  , 0.2708175 ],\n",
       "       [0.05252812, 0.1072152 , 0.2709261 ],\n",
       "       [0.05411363, 0.1072442 , 0.27087   ],\n",
       "       [0.05572303, 0.1073117 , 0.2707042 ],\n",
       "       [0.0571284 , 0.1073857 , 0.2705097 ],\n",
       "       [0.05856383, 0.1074383 , 0.2703438 ],\n",
       "       [0.06003307, 0.1075073 , 0.2702675 ],\n",
       "       [0.06160605, 0.1076045 , 0.2703311 ],\n",
       "       [0.06319246, 0.1077736 , 0.2704539 ],\n",
       "       [0.06429505, 0.1079244 , 0.2706179 ],\n",
       "       [0.06629045, 0.108162  , 0.2708459 ],\n",
       "       [0.06838974, 0.1084369 , 0.271058  ],\n",
       "       [0.07031802, 0.108755  , 0.2711976 ],\n",
       "       [0.07234646, 0.1090832 , 0.2713326 ],\n",
       "       [0.07439862, 0.1093124 , 0.2715262 ],\n",
       "       [0.07652863, 0.1094216 , 0.2717251 ],\n",
       "       [0.07855867, 0.1093872 , 0.2718445 ],\n",
       "       [0.08056656, 0.1093663 , 0.2718632 ],\n",
       "       [0.08260874, 0.1093914 , 0.27183   ],\n",
       "       [0.08473486, 0.1094529 , 0.2717049 ],\n",
       "       [0.08691985, 0.1095234 , 0.2715192 ],\n",
       "       [0.0892046 , 0.1096461 , 0.2712333 ],\n",
       "       [0.09147592, 0.1097228 , 0.2708503 ],\n",
       "       [0.0936982 , 0.1097771 , 0.270397  ],\n",
       "       [0.09593834, 0.1098785 , 0.2699797 ],\n",
       "       [0.09822071, 0.1100284 , 0.269561  ],\n",
       "       [0.1005251 , 0.1101857 , 0.2692027 ],\n",
       "       [0.102872  , 0.1103962 , 0.2688609 ],\n",
       "       [0.1052351 , 0.1106337 , 0.268533  ],\n",
       "       [0.1074739 , 0.1108397 , 0.2682081 ],\n",
       "       [0.1097753 , 0.1111162 , 0.2678905 ],\n",
       "       [0.1121758 , 0.1114946 , 0.2674562 ],\n",
       "       [0.1147088 , 0.1119046 , 0.2668801 ],\n",
       "       [0.1172872 , 0.1123049 , 0.2662615 ],\n",
       "       [0.1198778 , 0.1126743 , 0.2656829 ],\n",
       "       [0.1224121 , 0.1129279 , 0.2652065 ],\n",
       "       [0.1249264 , 0.1131898 , 0.2648689 ],\n",
       "       [0.1274103 , 0.113459  , 0.2646154 ],\n",
       "       [0.1298664 , 0.1137863 , 0.264421  ],\n",
       "       [0.1323168 , 0.1141415 , 0.2642491 ],\n",
       "       [0.1348425 , 0.1145251 , 0.26401   ],\n",
       "       [0.137394  , 0.1148953 , 0.263769  ],\n",
       "       [0.1399111 , 0.1151845 , 0.2635688 ],\n",
       "       [0.1424357 , 0.1153549 , 0.2634768 ],\n",
       "       [0.144902  , 0.1154315 , 0.2634881 ],\n",
       "       [0.1473184 , 0.1154461 , 0.263597  ],\n",
       "       [0.1496644 , 0.1154727 , 0.2637523 ],\n",
       "       [0.1519544 , 0.1155588 , 0.2638958 ],\n",
       "       [0.1542073 , 0.1156356 , 0.2640184 ],\n",
       "       [0.1564555 , 0.1157617 , 0.2641179 ],\n",
       "       [0.1586781 , 0.1159303 , 0.2642771 ],\n",
       "       [0.1608661 , 0.1162224 , 0.264551  ],\n",
       "       [0.1630383 , 0.116532  , 0.264836  ],\n",
       "       [0.1651267 , 0.1168809 , 0.2650591 ],\n",
       "       [0.1672632 , 0.1172069 , 0.2652761 ],\n",
       "       [0.1693565 , 0.1175341 , 0.2654404 ],\n",
       "       [0.1714906 , 0.1178247 , 0.2655802 ],\n",
       "       [0.1736258 , 0.1180963 , 0.2656598 ],\n",
       "       [0.1757188 , 0.118289  , 0.26572   ],\n",
       "       [0.1776897 , 0.1184308 , 0.2656812 ],\n",
       "       [0.1795785 , 0.118529  , 0.2655504 ],\n",
       "       [0.181403  , 0.1185903 , 0.2653508 ],\n",
       "       [0.1831237 , 0.1185664 , 0.2651742 ],\n",
       "       [0.1847505 , 0.1185024 , 0.2650988 ],\n",
       "       [0.1862565 , 0.1183859 , 0.2651191 ],\n",
       "       [0.1876544 , 0.1183088 , 0.2652014 ],\n",
       "       [0.1885627 , 0.1182532 , 0.2653095 ],\n",
       "       [0.1894856 , 0.1182808 , 0.2654282 ],\n",
       "       [0.190055  , 0.1183601 , 0.2655146 ],\n",
       "       [0.1913572 , 0.1185034 , 0.2656661 ],\n",
       "       [0.1929064 , 0.1187371 , 0.2658388 ],\n",
       "       [0.1941393 , 0.1190244 , 0.2659784 ],\n",
       "       [0.1946579 , 0.1192161 , 0.2660758 ],\n",
       "       [0.1956063 , 0.1194997 , 0.2662696 ],\n",
       "       [0.1965249 , 0.1197916 , 0.2664807 ],\n",
       "       [0.197559  , 0.1201556 , 0.2667171 ],\n",
       "       [0.1985527 , 0.1205404 , 0.2668953 ],\n",
       "       [0.199186  , 0.1208083 , 0.2669751 ],\n",
       "       [0.199688  , 0.1210474 , 0.2670113 ],\n",
       "       [0.2002413 , 0.1213141 , 0.2670645 ],\n",
       "       [0.2007761 , 0.1215728 , 0.2671063 ],\n",
       "       [0.2012844 , 0.1218324 , 0.2671537 ],\n",
       "       [0.2017852 , 0.1220946 , 0.2672018 ],\n",
       "       [0.2022645 , 0.1223437 , 0.2672727 ],\n",
       "       [0.2026371 , 0.1225283 , 0.2673352 ],\n",
       "       [0.2030204 , 0.1227221 , 0.2674124 ],\n",
       "       [0.2032659 , 0.1228677 , 0.2674342 ],\n",
       "       [0.2035146 , 0.1230123 , 0.2674285 ],\n",
       "       [0.203757  , 0.1231501 , 0.2673999 ],\n",
       "       [0.2040518 , 0.1233085 , 0.2673331 ],\n",
       "       [0.2044691 , 0.1235149 , 0.2671942 ],\n",
       "       [0.2047912 , 0.1236491 , 0.2670659 ],\n",
       "       [0.2051361 , 0.123785  , 0.2669298 ],\n",
       "       [0.2054679 , 0.1239096 , 0.2668002 ],\n",
       "       [0.2059471 , 0.1240663 , 0.2665972 ],\n",
       "       [0.2064186 , 0.1242074 , 0.2663702 ],\n",
       "       [0.2067868 , 0.124328  , 0.266164  ],\n",
       "       [0.2071062 , 0.1244382 , 0.265994  ],\n",
       "       [0.2074229 , 0.1245397 , 0.2658626 ],\n",
       "       [0.2077517 , 0.1246727 , 0.2657682 ],\n",
       "       [0.2080496 , 0.1247979 , 0.2657239 ],\n",
       "       [0.2083119 , 0.1248999 , 0.2657273 ],\n",
       "       [0.2086626 , 0.1250219 , 0.2657513 ],\n",
       "       [0.2089387 , 0.1250987 , 0.2657884 ],\n",
       "       [0.2092644 , 0.1251421 , 0.2658656 ],\n",
       "       [0.2097058 , 0.1251165 , 0.2660528 ],\n",
       "       [0.2102938 , 0.1249615 , 0.2664131 ],\n",
       "       [0.2108769 , 0.1246786 , 0.2668191 ],\n",
       "       [0.2114903 , 0.1242627 , 0.2672291 ],\n",
       "       [0.2120175 , 0.1238131 , 0.2675781 ]])"
      ]
     },
     "execution_count": 140,
     "metadata": {},
     "output_type": "execute_result"
    }
   ],
   "source": [
    "filtered_strokes[-1]"
   ]
  },
  {
   "cell_type": "markdown",
   "id": "8569e9bd",
   "metadata": {},
   "source": [
    "# Save obj file"
   ]
  },
  {
   "cell_type": "code",
   "execution_count": 135,
   "id": "1d197e0b",
   "metadata": {},
   "outputs": [],
   "source": [
    "def get_edge_list(vertice_array):\n",
    "    edge_list = []\n",
    "    p_count = 0\n",
    "    for point_list in vertice_array:\n",
    "        p_count += 1\n",
    "        for i in range(len(point_list) - 1):\n",
    "            edge_list.append([p_count, p_count + 1])\n",
    "            p_count += 1\n",
    "    return edge_list"
   ]
  },
  {
   "cell_type": "code",
   "execution_count": 134,
   "id": "06181d73",
   "metadata": {},
   "outputs": [],
   "source": [
    "def save_obj_file(file_path, v, l, is_utf8=False):\n",
    "    if is_utf8:\n",
    "        f = codecs.open(file_path, 'w', 'utf-8')\n",
    "    else:\n",
    "        f = open(file_path, 'w')\n",
    "    for item in v:\n",
    "        f.write('v %.6f %.6f %.6f \\n' % (item[0], item[1], item[2]))\n",
    "    for item in l:\n",
    "        f.write('l %s %s \\n' % (item[0], item[1]))\n",
    "    if len(l) >= 1:\n",
    "        f.write('l %s %s \\n' % (l[-1][0], l[-1][1]))\n",
    "    f.close()"
   ]
  },
  {
   "cell_type": "code",
   "execution_count": 142,
   "id": "a9cd20fe",
   "metadata": {},
   "outputs": [],
   "source": [
    "save_path = 'filtered.obj'\n",
    "vertice_list = [item for stroke in filtered_strokes[:, :3] for item in stroke]\n",
    "edge_list = get_edge_list(filtered_strokes[:, :3])\n",
    "\n",
    "save_obj_file(save_path, vertice_list, edge_list)"
   ]
  },
  {
   "cell_type": "markdown",
   "id": "8a8d62be",
   "metadata": {},
   "source": [
    "Now you can visualize the obj file `filtered.obj` using any 3D software you like!"
   ]
  },
  {
   "cell_type": "markdown",
   "id": "1b119876",
   "metadata": {},
   "source": [
    "# Save timestamp file"
   ]
  },
  {
   "cell_type": "markdown",
   "id": "9f844998",
   "metadata": {},
   "source": [
    "We can use the time info of the filtered sketch to replace the original one:"
   ]
  },
  {
   "cell_type": "code",
   "execution_count": 146,
   "id": "f98288bb",
   "metadata": {},
   "outputs": [],
   "source": [
    "save_path = 'filtered_timestamp.txt'\n",
    "timestamp_list = [item for stroke in filtered_strokes for item in stroke]\n",
    "np.savetxt(save_path, timestamp_list, fmt='%0.8f')"
   ]
  }
 ],
 "metadata": {
  "kernelspec": {
   "display_name": "Python 3",
   "language": "python",
   "name": "python3"
  },
  "language_info": {
   "codemirror_mode": {
    "name": "ipython",
    "version": 3
   },
   "file_extension": ".py",
   "mimetype": "text/x-python",
   "name": "python",
   "nbconvert_exporter": "python",
   "pygments_lexer": "ipython3",
   "version": "3.6.13"
  }
 },
 "nbformat": 4,
 "nbformat_minor": 5
}
